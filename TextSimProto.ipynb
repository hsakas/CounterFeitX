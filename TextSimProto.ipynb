{
 "cells": [
  {
   "cell_type": "code",
   "execution_count": 1,
   "metadata": {},
   "outputs": [],
   "source": [
    "import math\n",
    "import pandas as pd"
   ]
  },
  {
   "cell_type": "code",
   "execution_count": 2,
   "metadata": {},
   "outputs": [],
   "source": [
    "df = pd.read_csv('./raw_product.csv')"
   ]
  },
  {
   "cell_type": "code",
   "execution_count": 3,
   "metadata": {},
   "outputs": [
    {
     "data": {
      "text/html": [
       "<div>\n",
       "<style scoped>\n",
       "    .dataframe tbody tr th:only-of-type {\n",
       "        vertical-align: middle;\n",
       "    }\n",
       "\n",
       "    .dataframe tbody tr th {\n",
       "        vertical-align: top;\n",
       "    }\n",
       "\n",
       "    .dataframe thead th {\n",
       "        text-align: right;\n",
       "    }\n",
       "</style>\n",
       "<table border=\"1\" class=\"dataframe\">\n",
       "  <thead>\n",
       "    <tr style=\"text-align: right;\">\n",
       "      <th></th>\n",
       "      <th>Unnamed: 0</th>\n",
       "      <th>api_url</th>\n",
       "      <th>brand</th>\n",
       "      <th>breadcrumb</th>\n",
       "      <th>category</th>\n",
       "      <th>color_option</th>\n",
       "      <th>consolidate_brand</th>\n",
       "      <th>currency</th>\n",
       "      <th>description</th>\n",
       "      <th>discount</th>\n",
       "      <th>...</th>\n",
       "      <th>size</th>\n",
       "      <th>sku</th>\n",
       "      <th>source</th>\n",
       "      <th>spec</th>\n",
       "      <th>status</th>\n",
       "      <th>stock</th>\n",
       "      <th>title</th>\n",
       "      <th>title_tag</th>\n",
       "      <th>unique_key</th>\n",
       "      <th>website</th>\n",
       "    </tr>\n",
       "  </thead>\n",
       "  <tbody>\n",
       "    <tr>\n",
       "      <td>0</td>\n",
       "      <td>0</td>\n",
       "      <td>https://www.lazada.com.my/products/adidas-clov...</td>\n",
       "      <td>No Brand</td>\n",
       "      <td>NaN</td>\n",
       "      <td>[\"Men's Shoes and Clothing\", 'Men Clothing', '...</td>\n",
       "      <td>['White', 'Black']</td>\n",
       "      <td>adidas</td>\n",
       "      <td>MYR</td>\n",
       "      <td>Buy Adidas一 Clover Men'S T-Shirt Cw0709 Cw0710...</td>\n",
       "      <td>50.0</td>\n",
       "      <td>...</td>\n",
       "      <td>['XS', 'L', 'XL', '2XL', 'S', 'M']</td>\n",
       "      <td>1031336607_MY-2773238814</td>\n",
       "      <td>lazada</td>\n",
       "      <td>NaN</td>\n",
       "      <td>True</td>\n",
       "      <td>In Stock</td>\n",
       "      <td>Adidas一 Clover Men'S T-Shirt Cw0709 Cw0710 Wit...</td>\n",
       "      <td>Adidas一 Clover Men'S T-Shirt Cw0709 Cw0710 Wit...</td>\n",
       "      <td>1031336607_MY-2773238814_1000223104_5020</td>\n",
       "      <td>www.lazada.com.my</td>\n",
       "    </tr>\n",
       "    <tr>\n",
       "      <td>1</td>\n",
       "      <td>1</td>\n",
       "      <td>https://www.lazada.com.my/products/original_ad...</td>\n",
       "      <td>No Brand</td>\n",
       "      <td>NaN</td>\n",
       "      <td>[\"Men's Shoes and Clothing\", 'Men Clothing', '...</td>\n",
       "      <td>['ไม่ระบุ']</td>\n",
       "      <td>adidas</td>\n",
       "      <td>MYR</td>\n",
       "      <td>Buy Original_Adidas_Yeezy Boost 350 V2 Glow in...</td>\n",
       "      <td>78.0</td>\n",
       "      <td>...</td>\n",
       "      <td>['36.7', '37.3', '38.7', '39.3', '40.7', '41.3...</td>\n",
       "      <td>839514190_MY-2004830132</td>\n",
       "      <td>lazada</td>\n",
       "      <td>NaN</td>\n",
       "      <td>True</td>\n",
       "      <td>In Stock</td>\n",
       "      <td>Original_Adidas_Yeezy Boost 350 V2 Glow in the...</td>\n",
       "      <td>Original_Adidas_Yeezy Boost 350 V2 Glow in the...</td>\n",
       "      <td>839514190_MY-2004830132_1000381154_5020</td>\n",
       "      <td>www.lazada.com.my</td>\n",
       "    </tr>\n",
       "    <tr>\n",
       "      <td>2</td>\n",
       "      <td>2</td>\n",
       "      <td>https://www.lazada.com.my/products/2019-authen...</td>\n",
       "      <td>No Brand</td>\n",
       "      <td>NaN</td>\n",
       "      <td>['Sports &amp; Outdoors', 'Sports Shoes', 'Men', '...</td>\n",
       "      <td>['black']</td>\n",
       "      <td>adidas</td>\n",
       "      <td>MYR</td>\n",
       "      <td>Buy 2019 Authentic Adidas_Original NMD_ Women&amp;...</td>\n",
       "      <td>29.0</td>\n",
       "      <td>...</td>\n",
       "      <td>['36', '37', '38', '39', '40', '41', '42', '43...</td>\n",
       "      <td>738790786_MY-1639078096</td>\n",
       "      <td>lazada</td>\n",
       "      <td>NaN</td>\n",
       "      <td>True</td>\n",
       "      <td>In Stock</td>\n",
       "      <td>2019 Authentic Adidas_Original NMD_ Women&amp;Men ...</td>\n",
       "      <td>2019 Authentic Adidas_Original NMD_ Women&amp;Men ...</td>\n",
       "      <td>738790786_MY-1639078096_1000170295_5020</td>\n",
       "      <td>www.lazada.com.my</td>\n",
       "    </tr>\n",
       "    <tr>\n",
       "      <td>3</td>\n",
       "      <td>3</td>\n",
       "      <td>https://www.lazada.com.my/products/adidas_nizz...</td>\n",
       "      <td>No Brand</td>\n",
       "      <td>NaN</td>\n",
       "      <td>['Sports &amp; Outdoors', 'Sports Shoes', 'Men', '...</td>\n",
       "      <td>['khaki']</td>\n",
       "      <td>adidas</td>\n",
       "      <td>MYR</td>\n",
       "      <td>Buy %%%Adidas_Nizza campus couples tide shoes ...</td>\n",
       "      <td>62.0</td>\n",
       "      <td>...</td>\n",
       "      <td>['36', '37', '38', '39', '40', '41', '42', '43...</td>\n",
       "      <td>853308618_MY-2062732640</td>\n",
       "      <td>lazada</td>\n",
       "      <td>NaN</td>\n",
       "      <td>True</td>\n",
       "      <td>In Stock</td>\n",
       "      <td>%%%Adidas_Nizza campus couples tide shoes low ...</td>\n",
       "      <td>%%%Adidas_Nizza campus couples tide shoes low ...</td>\n",
       "      <td>853308618_MY-2062732640_1000384979_5020</td>\n",
       "      <td>www.lazada.com.my</td>\n",
       "    </tr>\n",
       "    <tr>\n",
       "      <td>4</td>\n",
       "      <td>4</td>\n",
       "      <td>https://www.lelong.com.my/foldable-digital-ele...</td>\n",
       "      <td>OEM</td>\n",
       "      <td>NaN</td>\n",
       "      <td>NaN</td>\n",
       "      <td>['Black', 'Blue', 'White', 'Red']</td>\n",
       "      <td>OEM</td>\n",
       "      <td>RM</td>\n",
       "      <td>Product ID : 205174022 Brand : OEM Model / SKU...</td>\n",
       "      <td>25.0</td>\n",
       "      <td>...</td>\n",
       "      <td>['Black', 'Blue', 'Red', 'White']</td>\n",
       "      <td>205174022</td>\n",
       "      <td>lelong</td>\n",
       "      <td>NaN</td>\n",
       "      <td>True</td>\n",
       "      <td>In Stock</td>\n",
       "      <td>Foldable Digital Electronic Barbecu (end 12/7/...</td>\n",
       "      <td>Foldable Digital Electronic Barbecu (end 12/7/...</td>\n",
       "      <td>205174022_qpet_5021</td>\n",
       "      <td>www.lelong.com.my</td>\n",
       "    </tr>\n",
       "  </tbody>\n",
       "</table>\n",
       "<p>5 rows × 44 columns</p>\n",
       "</div>"
      ],
      "text/plain": [
       "   Unnamed: 0                                            api_url     brand  \\\n",
       "0           0  https://www.lazada.com.my/products/adidas-clov...  No Brand   \n",
       "1           1  https://www.lazada.com.my/products/original_ad...  No Brand   \n",
       "2           2  https://www.lazada.com.my/products/2019-authen...  No Brand   \n",
       "3           3  https://www.lazada.com.my/products/adidas_nizz...  No Brand   \n",
       "4           4  https://www.lelong.com.my/foldable-digital-ele...       OEM   \n",
       "\n",
       "   breadcrumb                                           category  \\\n",
       "0         NaN  [\"Men's Shoes and Clothing\", 'Men Clothing', '...   \n",
       "1         NaN  [\"Men's Shoes and Clothing\", 'Men Clothing', '...   \n",
       "2         NaN  ['Sports & Outdoors', 'Sports Shoes', 'Men', '...   \n",
       "3         NaN  ['Sports & Outdoors', 'Sports Shoes', 'Men', '...   \n",
       "4         NaN                                                NaN   \n",
       "\n",
       "                        color_option consolidate_brand currency  \\\n",
       "0                 ['White', 'Black']            adidas      MYR   \n",
       "1                        ['ไม่ระบุ']            adidas      MYR   \n",
       "2                          ['black']            adidas      MYR   \n",
       "3                          ['khaki']            adidas      MYR   \n",
       "4  ['Black', 'Blue', 'White', 'Red']               OEM       RM   \n",
       "\n",
       "                                         description  discount  ...  \\\n",
       "0  Buy Adidas一 Clover Men'S T-Shirt Cw0709 Cw0710...      50.0  ...   \n",
       "1  Buy Original_Adidas_Yeezy Boost 350 V2 Glow in...      78.0  ...   \n",
       "2  Buy 2019 Authentic Adidas_Original NMD_ Women&...      29.0  ...   \n",
       "3  Buy %%%Adidas_Nizza campus couples tide shoes ...      62.0  ...   \n",
       "4  Product ID : 205174022 Brand : OEM Model / SKU...      25.0  ...   \n",
       "\n",
       "                                                size  \\\n",
       "0                 ['XS', 'L', 'XL', '2XL', 'S', 'M']   \n",
       "1  ['36.7', '37.3', '38.7', '39.3', '40.7', '41.3...   \n",
       "2  ['36', '37', '38', '39', '40', '41', '42', '43...   \n",
       "3  ['36', '37', '38', '39', '40', '41', '42', '43...   \n",
       "4                  ['Black', 'Blue', 'Red', 'White']   \n",
       "\n",
       "                        sku  source spec status     stock  \\\n",
       "0  1031336607_MY-2773238814  lazada  NaN   True  In Stock   \n",
       "1   839514190_MY-2004830132  lazada  NaN   True  In Stock   \n",
       "2   738790786_MY-1639078096  lazada  NaN   True  In Stock   \n",
       "3   853308618_MY-2062732640  lazada  NaN   True  In Stock   \n",
       "4                 205174022  lelong  NaN   True  In Stock   \n",
       "\n",
       "                                               title  \\\n",
       "0  Adidas一 Clover Men'S T-Shirt Cw0709 Cw0710 Wit...   \n",
       "1  Original_Adidas_Yeezy Boost 350 V2 Glow in the...   \n",
       "2  2019 Authentic Adidas_Original NMD_ Women&Men ...   \n",
       "3  %%%Adidas_Nizza campus couples tide shoes low ...   \n",
       "4  Foldable Digital Electronic Barbecu (end 12/7/...   \n",
       "\n",
       "                                           title_tag  \\\n",
       "0  Adidas一 Clover Men'S T-Shirt Cw0709 Cw0710 Wit...   \n",
       "1  Original_Adidas_Yeezy Boost 350 V2 Glow in the...   \n",
       "2  2019 Authentic Adidas_Original NMD_ Women&Men ...   \n",
       "3  %%%Adidas_Nizza campus couples tide shoes low ...   \n",
       "4  Foldable Digital Electronic Barbecu (end 12/7/...   \n",
       "\n",
       "                                 unique_key            website  \n",
       "0  1031336607_MY-2773238814_1000223104_5020  www.lazada.com.my  \n",
       "1   839514190_MY-2004830132_1000381154_5020  www.lazada.com.my  \n",
       "2   738790786_MY-1639078096_1000170295_5020  www.lazada.com.my  \n",
       "3   853308618_MY-2062732640_1000384979_5020  www.lazada.com.my  \n",
       "4                       205174022_qpet_5021  www.lelong.com.my  \n",
       "\n",
       "[5 rows x 44 columns]"
      ]
     },
     "execution_count": 3,
     "metadata": {},
     "output_type": "execute_result"
    }
   ],
   "source": [
    "df.head()"
   ]
  },
  {
   "cell_type": "code",
   "execution_count": 4,
   "metadata": {},
   "outputs": [
    {
     "data": {
      "text/plain": [
       "0    Buy Adidas一 Clover Men'S T-Shirt Cw0709 Cw0710...\n",
       "1    Buy Original_Adidas_Yeezy Boost 350 V2 Glow in...\n",
       "2    Buy 2019 Authentic Adidas_Original NMD_ Women&...\n",
       "3    Buy %%%Adidas_Nizza campus couples tide shoes ...\n",
       "4    Product ID : 205174022 Brand : OEM Model / SKU...\n",
       "Name: description, dtype: object"
      ]
     },
     "execution_count": 4,
     "metadata": {},
     "output_type": "execute_result"
    }
   ],
   "source": [
    "df['description'].head()"
   ]
  },
  {
   "cell_type": "code",
   "execution_count": 5,
   "metadata": {},
   "outputs": [
    {
     "data": {
      "text/plain": [
       "0    Adidas一 Clover Men'S T-Shirt Cw0709 Cw0710 Wit...\n",
       "1    Original_Adidas_Yeezy Boost 350 V2 Glow in the...\n",
       "2    2019 Authentic Adidas_Original NMD_ Women&Men ...\n",
       "3    %%%Adidas_Nizza campus couples tide shoes low ...\n",
       "4    Foldable Digital Electronic Barbecu (end 12/7/...\n",
       "Name: title, dtype: object"
      ]
     },
     "execution_count": 5,
     "metadata": {},
     "output_type": "execute_result"
    }
   ],
   "source": [
    "df['title'].head()"
   ]
  },
  {
   "cell_type": "code",
   "execution_count": 6,
   "metadata": {},
   "outputs": [],
   "source": [
    "from spacy.lang.en import English"
   ]
  },
  {
   "cell_type": "code",
   "execution_count": 7,
   "metadata": {},
   "outputs": [],
   "source": [
    "nlp = English()"
   ]
  },
  {
   "cell_type": "code",
   "execution_count": 8,
   "metadata": {},
   "outputs": [],
   "source": [
    "title_array = df['title'].to_numpy()"
   ]
  },
  {
   "cell_type": "code",
   "execution_count": 9,
   "metadata": {},
   "outputs": [
    {
     "data": {
      "text/plain": [
       "str"
      ]
     },
     "execution_count": 9,
     "metadata": {},
     "output_type": "execute_result"
    }
   ],
   "source": [
    "type(title_array[0])"
   ]
  },
  {
   "cell_type": "code",
   "execution_count": 10,
   "metadata": {},
   "outputs": [],
   "source": [
    "my_doc = nlp(title_array[0])"
   ]
  },
  {
   "cell_type": "code",
   "execution_count": 11,
   "metadata": {
    "tags": []
   },
   "outputs": [
    {
     "name": "stdout",
     "output_type": "stream",
     "text": [
      "['Adidas一', 'Clover', 'Men', \"'S\", 'T', '-', 'Shirt', 'Cw0709', 'Cw0710', 'With', 'Round', 'Neck', 'And', 'Short', 'Sleeves', '|', 'Lazada']\n"
     ]
    }
   ],
   "source": [
    "token_list = []\n",
    "for token in my_doc:\n",
    "    token_list.append(token.text)\n",
    "print(token_list)"
   ]
  },
  {
   "cell_type": "code",
   "execution_count": 12,
   "metadata": {},
   "outputs": [],
   "source": [
    "import flair"
   ]
  },
  {
   "cell_type": "code",
   "execution_count": 13,
   "metadata": {},
   "outputs": [],
   "source": [
    "from flair.data import Sentence"
   ]
  },
  {
   "cell_type": "code",
   "execution_count": 14,
   "metadata": {},
   "outputs": [],
   "source": [
    "sentence = Sentence(title_array[0])"
   ]
  },
  {
   "cell_type": "code",
   "execution_count": 15,
   "metadata": {},
   "outputs": [
    {
     "data": {
      "text/plain": [
       "Sentence: \"Adidas一 Clover Men'S T-Shirt Cw0709 Cw0710 With Round Neck And Short Sleeves | Lazada\" - 14 Tokens"
      ]
     },
     "execution_count": 15,
     "metadata": {},
     "output_type": "execute_result"
    }
   ],
   "source": [
    "sentence"
   ]
  },
  {
   "cell_type": "code",
   "execution_count": 16,
   "metadata": {},
   "outputs": [],
   "source": [
    "from flair.embeddings import WordEmbeddings, DocumentPoolEmbeddings"
   ]
  },
  {
   "cell_type": "code",
   "execution_count": 17,
   "metadata": {},
   "outputs": [],
   "source": [
    "glove_embedding = WordEmbeddings('glove')"
   ]
  },
  {
   "cell_type": "code",
   "execution_count": 18,
   "metadata": {},
   "outputs": [],
   "source": [
    "document_embeddings = DocumentPoolEmbeddings([glove_embedding])"
   ]
  },
  {
   "cell_type": "code",
   "execution_count": 19,
   "metadata": {},
   "outputs": [],
   "source": [
    "document_embeddings.embed(sentence)"
   ]
  },
  {
   "cell_type": "code",
   "execution_count": 20,
   "metadata": {
    "tags": []
   },
   "outputs": [
    {
     "name": "stdout",
     "output_type": "stream",
     "text": [
      "torch.Size([100])\n"
     ]
    }
   ],
   "source": [
    "print(sentence.embedding.shape)"
   ]
  },
  {
   "cell_type": "code",
   "execution_count": 21,
   "metadata": {},
   "outputs": [],
   "source": [
    "sentence_two = Sentence(title_array[1])"
   ]
  },
  {
   "cell_type": "code",
   "execution_count": 22,
   "metadata": {},
   "outputs": [
    {
     "data": {
      "text/plain": [
       "[Sentence: \"Adidas一 Clover Men'S T-Shirt Cw0709 Cw0710 With Round Neck And Short Sleeves | Lazada\" - 14 Tokens,\n",
       " Sentence: \"Original_Adidas_Yeezy Boost 350 V2 Glow in the Dark EG5293 Men/Wowen Fashion Sports Running Shoes | Lazada\" - 16 Tokens]"
      ]
     },
     "execution_count": 22,
     "metadata": {},
     "output_type": "execute_result"
    }
   ],
   "source": [
    "[sentence, sentence_two]"
   ]
  },
  {
   "cell_type": "code",
   "execution_count": 23,
   "metadata": {
    "tags": []
   },
   "outputs": [
    {
     "name": "stdout",
     "output_type": "stream",
     "text": [
      "torch.Size([100])\n"
     ]
    }
   ],
   "source": [
    "document_embeddings.embed(sentence_two)\n",
    "print(sentence_two.embedding.shape)"
   ]
  },
  {
   "cell_type": "code",
   "execution_count": 24,
   "metadata": {
    "tags": []
   },
   "outputs": [
    {
     "name": "stdout",
     "output_type": "stream",
     "text": [
      "Requirement already satisfied: annoy in /Users/aswamy/.local/lib/python3.7/site-packages (1.16.3)\n"
     ]
    }
   ],
   "source": [
    "!pip install --user annoy"
   ]
  },
  {
   "cell_type": "code",
   "execution_count": 1,
   "metadata": {},
   "outputs": [
    {
     "ename": "ModuleNotFoundError",
     "evalue": "No module named 'annoy'",
     "output_type": "error",
     "traceback": [
      "\u001b[0;31m---------------------------------------------------------------------------\u001b[0m",
      "\u001b[0;31mModuleNotFoundError\u001b[0m                       Traceback (most recent call last)",
      "\u001b[0;32m<ipython-input-1-383358162bae>\u001b[0m in \u001b[0;36m<module>\u001b[0;34m\u001b[0m\n\u001b[0;32m----> 1\u001b[0;31m \u001b[0;32mfrom\u001b[0m \u001b[0mannoy\u001b[0m \u001b[0;32mimport\u001b[0m \u001b[0mAnnoyIndex\u001b[0m\u001b[0;34m\u001b[0m\u001b[0;34m\u001b[0m\u001b[0m\n\u001b[0m",
      "\u001b[0;31mModuleNotFoundError\u001b[0m: No module named 'annoy'"
     ]
    }
   ],
   "source": [
    "from annoy import AnnoyIndex"
   ]
  },
  {
   "cell_type": "code",
   "execution_count": null,
   "metadata": {},
   "outputs": [],
   "source": [
    "t = AnnoyIndex(100, 'angular')"
   ]
  },
  {
   "cell_type": "code",
   "execution_count": null,
   "metadata": {},
   "outputs": [],
   "source": [
    "t.add_item(0, sentence.embedding)"
   ]
  },
  {
   "cell_type": "code",
   "execution_count": null,
   "metadata": {},
   "outputs": [],
   "source": [
    "t.add_item(1, sentence_two.embedding)"
   ]
  },
  {
   "cell_type": "code",
   "execution_count": null,
   "metadata": {},
   "outputs": [],
   "source": [
    "t.build(100)"
   ]
  },
  {
   "cell_type": "code",
   "execution_count": null,
   "metadata": {},
   "outputs": [],
   "source": [
    "t.get_nns_by_vector(sentence.embedding, 2)"
   ]
  },
  {
   "cell_type": "code",
   "execution_count": null,
   "metadata": {},
   "outputs": [],
   "source": []
  }
 ],
 "metadata": {
  "kernelspec": {
   "display_name": "Python 3",
   "language": "python",
   "name": "python3"
  },
  "kubeflow_notebook": {
   "docker_image": "",
   "experiment": {
    "id": "",
    "name": ""
   },
   "experiment_name": "",
   "pipeline_description": "",
   "pipeline_name": "",
   "volumes": []
  },
  "language_info": {
   "codemirror_mode": {
    "name": "ipython",
    "version": 3
   },
   "file_extension": ".py",
   "mimetype": "text/x-python",
   "name": "python",
   "nbconvert_exporter": "python",
   "pygments_lexer": "ipython3",
   "version": "3.7.6"
  }
 },
 "nbformat": 4,
 "nbformat_minor": 4
}
