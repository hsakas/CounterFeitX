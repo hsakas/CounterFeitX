{
 "cells": [
  {
   "cell_type": "code",
   "execution_count": 1,
   "metadata": {},
   "outputs": [],
   "source": [
    "import pandas as pd\n",
    "import numpy as np\n",
    "import torch\n",
    "import torch.nn as nn"
   ]
  },
  {
   "cell_type": "code",
   "execution_count": 2,
   "metadata": {},
   "outputs": [],
   "source": [
    "df = pd.read_csv('missing_data.csv')"
   ]
  },
  {
   "cell_type": "code",
   "execution_count": 3,
   "metadata": {},
   "outputs": [
    {
     "data": {
      "text/html": [
       "<div>\n",
       "<style scoped>\n",
       "    .dataframe tbody tr th:only-of-type {\n",
       "        vertical-align: middle;\n",
       "    }\n",
       "\n",
       "    .dataframe tbody tr th {\n",
       "        vertical-align: top;\n",
       "    }\n",
       "\n",
       "    .dataframe thead th {\n",
       "        text-align: right;\n",
       "    }\n",
       "</style>\n",
       "<table border=\"1\" class=\"dataframe\">\n",
       "  <thead>\n",
       "    <tr style=\"text-align: right;\">\n",
       "      <th></th>\n",
       "      <th>Unnamed: 0</th>\n",
       "      <th>api_url</th>\n",
       "      <th>brand</th>\n",
       "      <th>breadcrumb</th>\n",
       "      <th>category</th>\n",
       "      <th>color_option</th>\n",
       "      <th>consolidate_brand</th>\n",
       "      <th>currency</th>\n",
       "      <th>description</th>\n",
       "      <th>discount</th>\n",
       "      <th>...</th>\n",
       "      <th>size</th>\n",
       "      <th>sku</th>\n",
       "      <th>source</th>\n",
       "      <th>spec</th>\n",
       "      <th>status</th>\n",
       "      <th>stock</th>\n",
       "      <th>title</th>\n",
       "      <th>title_tag</th>\n",
       "      <th>unique_key</th>\n",
       "      <th>website</th>\n",
       "    </tr>\n",
       "  </thead>\n",
       "  <tbody>\n",
       "    <tr>\n",
       "      <td>0</td>\n",
       "      <td>0</td>\n",
       "      <td>https://www.lazada.com.my/products/adidas_supe...</td>\n",
       "      <td>adidas</td>\n",
       "      <td>NaN</td>\n",
       "      <td>[\"Men's Shoes and Clothing\", 'Men Shoes', 'Sne...</td>\n",
       "      <td>['White']</td>\n",
       "      <td>adidas</td>\n",
       "      <td>MYR</td>\n",
       "      <td>Buy Adidas_superstar Men's and women's retro c...</td>\n",
       "      <td>NaN</td>\n",
       "      <td>...</td>\n",
       "      <td>['45', '37', '40', '44', '41', '42', '38', '43...</td>\n",
       "      <td>471452862_MY-768722253</td>\n",
       "      <td>lazada</td>\n",
       "      <td>NaN</td>\n",
       "      <td>True</td>\n",
       "      <td>In Stock</td>\n",
       "      <td>Adidas_superstar Men's and women's retro casua...</td>\n",
       "      <td>Adidas_superstar Men's and women's retro casua...</td>\n",
       "      <td>471452862_MY-768722253_1000071025_5020</td>\n",
       "      <td>www.lazada.com.my</td>\n",
       "    </tr>\n",
       "    <tr>\n",
       "      <td>1</td>\n",
       "      <td>1</td>\n",
       "      <td>https://www.lazada.com.my/products/ready-stock...</td>\n",
       "      <td>No Brand</td>\n",
       "      <td>NaN</td>\n",
       "      <td>['Sports &amp; Outdoors', 'Sports Shoes', 'Men', '...</td>\n",
       "      <td>['Black']</td>\n",
       "      <td>adidas</td>\n",
       "      <td>MYR</td>\n",
       "      <td>Buy Ready Stock 2019_Adidas Ultra Boost Men Wo...</td>\n",
       "      <td>47.0</td>\n",
       "      <td>...</td>\n",
       "      <td>['36', '37', '38', '39', '40', '41', '42', '43...</td>\n",
       "      <td>516940582_MY-995108668</td>\n",
       "      <td>lazada</td>\n",
       "      <td>NaN</td>\n",
       "      <td>True</td>\n",
       "      <td>In Stock</td>\n",
       "      <td>Ready Stock 2019_Adidas Ultra Boost Men Women ...</td>\n",
       "      <td>Ready Stock 2019_Adidas Ultra Boost Men Women ...</td>\n",
       "      <td>516940582_MY-995108668_1000108159_5020</td>\n",
       "      <td>www.lazada.com.my</td>\n",
       "    </tr>\n",
       "  </tbody>\n",
       "</table>\n",
       "<p>2 rows × 44 columns</p>\n",
       "</div>"
      ],
      "text/plain": [
       "   Unnamed: 0                                            api_url     brand  \\\n",
       "0           0  https://www.lazada.com.my/products/adidas_supe...    adidas   \n",
       "1           1  https://www.lazada.com.my/products/ready-stock...  No Brand   \n",
       "\n",
       "   breadcrumb                                           category color_option  \\\n",
       "0         NaN  [\"Men's Shoes and Clothing\", 'Men Shoes', 'Sne...    ['White']   \n",
       "1         NaN  ['Sports & Outdoors', 'Sports Shoes', 'Men', '...    ['Black']   \n",
       "\n",
       "  consolidate_brand currency  \\\n",
       "0            adidas      MYR   \n",
       "1            adidas      MYR   \n",
       "\n",
       "                                         description  discount  ...  \\\n",
       "0  Buy Adidas_superstar Men's and women's retro c...       NaN  ...   \n",
       "1  Buy Ready Stock 2019_Adidas Ultra Boost Men Wo...      47.0  ...   \n",
       "\n",
       "                                                size                     sku  \\\n",
       "0  ['45', '37', '40', '44', '41', '42', '38', '43...  471452862_MY-768722253   \n",
       "1  ['36', '37', '38', '39', '40', '41', '42', '43...  516940582_MY-995108668   \n",
       "\n",
       "   source spec status     stock  \\\n",
       "0  lazada  NaN   True  In Stock   \n",
       "1  lazada  NaN   True  In Stock   \n",
       "\n",
       "                                               title  \\\n",
       "0  Adidas_superstar Men's and women's retro casua...   \n",
       "1  Ready Stock 2019_Adidas Ultra Boost Men Women ...   \n",
       "\n",
       "                                           title_tag  \\\n",
       "0  Adidas_superstar Men's and women's retro casua...   \n",
       "1  Ready Stock 2019_Adidas Ultra Boost Men Women ...   \n",
       "\n",
       "                               unique_key            website  \n",
       "0  471452862_MY-768722253_1000071025_5020  www.lazada.com.my  \n",
       "1  516940582_MY-995108668_1000108159_5020  www.lazada.com.my  \n",
       "\n",
       "[2 rows x 44 columns]"
      ]
     },
     "execution_count": 3,
     "metadata": {},
     "output_type": "execute_result"
    }
   ],
   "source": [
    "df.head(2)"
   ]
  },
  {
   "cell_type": "code",
   "execution_count": 4,
   "metadata": {},
   "outputs": [],
   "source": [
    "df = df.iloc[:]"
   ]
  },
  {
   "cell_type": "code",
   "execution_count": 5,
   "metadata": {},
   "outputs": [],
   "source": [
    "# df = df.filter(items=['brand', 'title', 'description'])\n",
    "df = df.filter(items=['brand', 'title'])"
   ]
  },
  {
   "cell_type": "code",
   "execution_count": 6,
   "metadata": {},
   "outputs": [
    {
     "data": {
      "text/html": [
       "<div>\n",
       "<style scoped>\n",
       "    .dataframe tbody tr th:only-of-type {\n",
       "        vertical-align: middle;\n",
       "    }\n",
       "\n",
       "    .dataframe tbody tr th {\n",
       "        vertical-align: top;\n",
       "    }\n",
       "\n",
       "    .dataframe thead th {\n",
       "        text-align: right;\n",
       "    }\n",
       "</style>\n",
       "<table border=\"1\" class=\"dataframe\">\n",
       "  <thead>\n",
       "    <tr style=\"text-align: right;\">\n",
       "      <th></th>\n",
       "      <th>brand</th>\n",
       "      <th>title</th>\n",
       "    </tr>\n",
       "  </thead>\n",
       "  <tbody>\n",
       "    <tr>\n",
       "      <td>0</td>\n",
       "      <td>adidas</td>\n",
       "      <td>Adidas_superstar Men's and women's retro casua...</td>\n",
       "    </tr>\n",
       "    <tr>\n",
       "      <td>1</td>\n",
       "      <td>No Brand</td>\n",
       "      <td>Ready Stock 2019_Adidas Ultra Boost Men Women ...</td>\n",
       "    </tr>\n",
       "  </tbody>\n",
       "</table>\n",
       "</div>"
      ],
      "text/plain": [
       "      brand                                              title\n",
       "0    adidas  Adidas_superstar Men's and women's retro casua...\n",
       "1  No Brand  Ready Stock 2019_Adidas Ultra Boost Men Women ..."
      ]
     },
     "execution_count": 6,
     "metadata": {},
     "output_type": "execute_result"
    }
   ],
   "source": [
    "df.head(2)"
   ]
  },
  {
   "cell_type": "code",
   "execution_count": 7,
   "metadata": {},
   "outputs": [],
   "source": [
    "sent_list = []\n",
    "for i in range(df.shape[0]):\n",
    "    temp = df.iloc[i].to_list()\n",
    "    sent_list.append(temp)"
   ]
  },
  {
   "cell_type": "code",
   "execution_count": 8,
   "metadata": {},
   "outputs": [
    {
     "data": {
      "text/plain": [
       "['No Brand',\n",
       " 'Ready Stock 2019_Adidas Ultra Boost Men Women Running Shoes Ultra Boost 5.0 Trainer Sport Sneaker white black | Lazada']"
      ]
     },
     "execution_count": 8,
     "metadata": {},
     "output_type": "execute_result"
    }
   ],
   "source": [
    "sent_list[1]"
   ]
  },
  {
   "cell_type": "code",
   "execution_count": 9,
   "metadata": {},
   "outputs": [],
   "source": [
    "from tqdm import tqdm\n",
    "from textsim.utils import EmbedSentence, SentenceDataset, SentencesDataset\n",
    "from torch.utils.data import DataLoader"
   ]
  },
  {
   "cell_type": "code",
   "execution_count": 10,
   "metadata": {},
   "outputs": [],
   "source": [
    "embedder = EmbedSentence()"
   ]
  },
  {
   "cell_type": "markdown",
   "metadata": {},
   "source": [
    "# Embed Title/Brand Sentences"
   ]
  },
  {
   "cell_type": "code",
   "execution_count": 11,
   "metadata": {},
   "outputs": [
    {
     "data": {
      "text/plain": [
       "(300, 2)"
      ]
     },
     "execution_count": 11,
     "metadata": {},
     "output_type": "execute_result"
    }
   ],
   "source": [
    "df.shape"
   ]
  },
  {
   "cell_type": "code",
   "execution_count": 12,
   "metadata": {},
   "outputs": [],
   "source": [
    "title_dataset = SentenceDataset(sentences=df['title'].to_numpy())\n",
    "title_dataloader = DataLoader(dataset=title_dataset, batch_size=32, shuffle=False)"
   ]
  },
  {
   "cell_type": "code",
   "execution_count": 19,
   "metadata": {},
   "outputs": [],
   "source": [
    "dataset = SentencesDataset(sentences_list=df[['brand', 'title']].to_numpy())\n",
    "dataloader = DataLoader(dataset=dataset, batch_size=120, shuffle=False)"
   ]
  },
  {
   "cell_type": "code",
   "execution_count": 20,
   "metadata": {},
   "outputs": [
    {
     "data": {
      "text/plain": [
       "300"
      ]
     },
     "execution_count": 20,
     "metadata": {},
     "output_type": "execute_result"
    }
   ],
   "source": [
    "len(dataset)"
   ]
  },
  {
   "cell_type": "code",
   "execution_count": 21,
   "metadata": {},
   "outputs": [
    {
     "name": "stderr",
     "output_type": "stream",
     "text": [
      "100%|██████████| 3/3 [00:00<00:00, 13.93it/s]"
     ]
    },
    {
     "name": "stdout",
     "output_type": "stream",
     "text": [
      "torch.Size([120, 100])\n",
      "torch.Size([120, 100])\n",
      "torch.Size([60, 100])\n"
     ]
    },
    {
     "name": "stderr",
     "output_type": "stream",
     "text": [
      "\n"
     ]
    }
   ],
   "source": [
    "for i in tqdm(dataloader):\n",
    "    print(i.shape)"
   ]
  },
  {
   "cell_type": "code",
   "execution_count": null,
   "metadata": {},
   "outputs": [],
   "source": []
  }
 ],
 "metadata": {
  "kernelspec": {
   "display_name": "Python 3",
   "language": "python",
   "name": "python3"
  },
  "kubeflow_notebook": {
   "docker_image": "",
   "experiment": {
    "id": "",
    "name": ""
   },
   "experiment_name": "",
   "pipeline_description": "",
   "pipeline_name": "",
   "volumes": []
  },
  "language_info": {
   "codemirror_mode": {
    "name": "ipython",
    "version": 3
   },
   "file_extension": ".py",
   "mimetype": "text/x-python",
   "name": "python",
   "nbconvert_exporter": "python",
   "pygments_lexer": "ipython3",
   "version": "3.7.6"
  }
 },
 "nbformat": 4,
 "nbformat_minor": 4
}
