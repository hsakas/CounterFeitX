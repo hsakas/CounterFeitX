{
 "cells": [
  {
   "cell_type": "code",
   "execution_count": 1,
   "metadata": {},
   "outputs": [],
   "source": [
    "import math\n",
    "import pandas as pd"
   ]
  },
  {
   "cell_type": "code",
   "execution_count": 2,
   "metadata": {},
   "outputs": [],
   "source": [
    "df = pd.read_csv('./raw_product.csv')"
   ]
  },
  {
   "cell_type": "code",
   "execution_count": 3,
   "metadata": {},
   "outputs": [
    {
     "output_type": "execute_result",
     "data": {
      "text/plain": "   Unnamed: 0                                            api_url     brand  \\\n0           0  https://www.lazada.com.my/products/adidas-clov...  No Brand   \n1           1  https://www.lazada.com.my/products/original_ad...  No Brand   \n2           2  https://www.lazada.com.my/products/2019-authen...  No Brand   \n3           3  https://www.lazada.com.my/products/adidas_nizz...  No Brand   \n4           4  https://www.lelong.com.my/foldable-digital-ele...       OEM   \n\n   breadcrumb                                           category  \\\n0         NaN  [\"Men's Shoes and Clothing\", 'Men Clothing', '...   \n1         NaN  [\"Men's Shoes and Clothing\", 'Men Clothing', '...   \n2         NaN  ['Sports & Outdoors', 'Sports Shoes', 'Men', '...   \n3         NaN  ['Sports & Outdoors', 'Sports Shoes', 'Men', '...   \n4         NaN                                                NaN   \n\n                        color_option consolidate_brand currency  \\\n0                 ['White', 'Black']            adidas      MYR   \n1                        ['ไม่ระบุ']            adidas      MYR   \n2                          ['black']            adidas      MYR   \n3                          ['khaki']            adidas      MYR   \n4  ['Black', 'Blue', 'White', 'Red']               OEM       RM   \n\n                                         description  discount  ...  \\\n0  Buy Adidas一 Clover Men'S T-Shirt Cw0709 Cw0710...      50.0  ...   \n1  Buy Original_Adidas_Yeezy Boost 350 V2 Glow in...      78.0  ...   \n2  Buy 2019 Authentic Adidas_Original NMD_ Women&...      29.0  ...   \n3  Buy %%%Adidas_Nizza campus couples tide shoes ...      62.0  ...   \n4  Product ID : 205174022 Brand : OEM Model / SKU...      25.0  ...   \n\n                                                size  \\\n0                 ['XS', 'L', 'XL', '2XL', 'S', 'M']   \n1  ['36.7', '37.3', '38.7', '39.3', '40.7', '41.3...   \n2  ['36', '37', '38', '39', '40', '41', '42', '43...   \n3  ['36', '37', '38', '39', '40', '41', '42', '43...   \n4                  ['Black', 'Blue', 'Red', 'White']   \n\n                        sku  source spec status     stock  \\\n0  1031336607_MY-2773238814  lazada  NaN   True  In Stock   \n1   839514190_MY-2004830132  lazada  NaN   True  In Stock   \n2   738790786_MY-1639078096  lazada  NaN   True  In Stock   \n3   853308618_MY-2062732640  lazada  NaN   True  In Stock   \n4                 205174022  lelong  NaN   True  In Stock   \n\n                                               title  \\\n0  Adidas一 Clover Men'S T-Shirt Cw0709 Cw0710 Wit...   \n1  Original_Adidas_Yeezy Boost 350 V2 Glow in the...   \n2  2019 Authentic Adidas_Original NMD_ Women&Men ...   \n3  %%%Adidas_Nizza campus couples tide shoes low ...   \n4  Foldable Digital Electronic Barbecu (end 12/7/...   \n\n                                           title_tag  \\\n0  Adidas一 Clover Men'S T-Shirt Cw0709 Cw0710 Wit...   \n1  Original_Adidas_Yeezy Boost 350 V2 Glow in the...   \n2  2019 Authentic Adidas_Original NMD_ Women&Men ...   \n3  %%%Adidas_Nizza campus couples tide shoes low ...   \n4  Foldable Digital Electronic Barbecu (end 12/7/...   \n\n                                 unique_key            website  \n0  1031336607_MY-2773238814_1000223104_5020  www.lazada.com.my  \n1   839514190_MY-2004830132_1000381154_5020  www.lazada.com.my  \n2   738790786_MY-1639078096_1000170295_5020  www.lazada.com.my  \n3   853308618_MY-2062732640_1000384979_5020  www.lazada.com.my  \n4                       205174022_qpet_5021  www.lelong.com.my  \n\n[5 rows x 44 columns]",
      "text/html": "<div>\n<style scoped>\n    .dataframe tbody tr th:only-of-type {\n        vertical-align: middle;\n    }\n\n    .dataframe tbody tr th {\n        vertical-align: top;\n    }\n\n    .dataframe thead th {\n        text-align: right;\n    }\n</style>\n<table border=\"1\" class=\"dataframe\">\n  <thead>\n    <tr style=\"text-align: right;\">\n      <th></th>\n      <th>Unnamed: 0</th>\n      <th>api_url</th>\n      <th>brand</th>\n      <th>breadcrumb</th>\n      <th>category</th>\n      <th>color_option</th>\n      <th>consolidate_brand</th>\n      <th>currency</th>\n      <th>description</th>\n      <th>discount</th>\n      <th>...</th>\n      <th>size</th>\n      <th>sku</th>\n      <th>source</th>\n      <th>spec</th>\n      <th>status</th>\n      <th>stock</th>\n      <th>title</th>\n      <th>title_tag</th>\n      <th>unique_key</th>\n      <th>website</th>\n    </tr>\n  </thead>\n  <tbody>\n    <tr>\n      <th>0</th>\n      <td>0</td>\n      <td>https://www.lazada.com.my/products/adidas-clov...</td>\n      <td>No Brand</td>\n      <td>NaN</td>\n      <td>[\"Men's Shoes and Clothing\", 'Men Clothing', '...</td>\n      <td>['White', 'Black']</td>\n      <td>adidas</td>\n      <td>MYR</td>\n      <td>Buy Adidas一 Clover Men'S T-Shirt Cw0709 Cw0710...</td>\n      <td>50.0</td>\n      <td>...</td>\n      <td>['XS', 'L', 'XL', '2XL', 'S', 'M']</td>\n      <td>1031336607_MY-2773238814</td>\n      <td>lazada</td>\n      <td>NaN</td>\n      <td>True</td>\n      <td>In Stock</td>\n      <td>Adidas一 Clover Men'S T-Shirt Cw0709 Cw0710 Wit...</td>\n      <td>Adidas一 Clover Men'S T-Shirt Cw0709 Cw0710 Wit...</td>\n      <td>1031336607_MY-2773238814_1000223104_5020</td>\n      <td>www.lazada.com.my</td>\n    </tr>\n    <tr>\n      <th>1</th>\n      <td>1</td>\n      <td>https://www.lazada.com.my/products/original_ad...</td>\n      <td>No Brand</td>\n      <td>NaN</td>\n      <td>[\"Men's Shoes and Clothing\", 'Men Clothing', '...</td>\n      <td>['ไม่ระบุ']</td>\n      <td>adidas</td>\n      <td>MYR</td>\n      <td>Buy Original_Adidas_Yeezy Boost 350 V2 Glow in...</td>\n      <td>78.0</td>\n      <td>...</td>\n      <td>['36.7', '37.3', '38.7', '39.3', '40.7', '41.3...</td>\n      <td>839514190_MY-2004830132</td>\n      <td>lazada</td>\n      <td>NaN</td>\n      <td>True</td>\n      <td>In Stock</td>\n      <td>Original_Adidas_Yeezy Boost 350 V2 Glow in the...</td>\n      <td>Original_Adidas_Yeezy Boost 350 V2 Glow in the...</td>\n      <td>839514190_MY-2004830132_1000381154_5020</td>\n      <td>www.lazada.com.my</td>\n    </tr>\n    <tr>\n      <th>2</th>\n      <td>2</td>\n      <td>https://www.lazada.com.my/products/2019-authen...</td>\n      <td>No Brand</td>\n      <td>NaN</td>\n      <td>['Sports &amp; Outdoors', 'Sports Shoes', 'Men', '...</td>\n      <td>['black']</td>\n      <td>adidas</td>\n      <td>MYR</td>\n      <td>Buy 2019 Authentic Adidas_Original NMD_ Women&amp;...</td>\n      <td>29.0</td>\n      <td>...</td>\n      <td>['36', '37', '38', '39', '40', '41', '42', '43...</td>\n      <td>738790786_MY-1639078096</td>\n      <td>lazada</td>\n      <td>NaN</td>\n      <td>True</td>\n      <td>In Stock</td>\n      <td>2019 Authentic Adidas_Original NMD_ Women&amp;Men ...</td>\n      <td>2019 Authentic Adidas_Original NMD_ Women&amp;Men ...</td>\n      <td>738790786_MY-1639078096_1000170295_5020</td>\n      <td>www.lazada.com.my</td>\n    </tr>\n    <tr>\n      <th>3</th>\n      <td>3</td>\n      <td>https://www.lazada.com.my/products/adidas_nizz...</td>\n      <td>No Brand</td>\n      <td>NaN</td>\n      <td>['Sports &amp; Outdoors', 'Sports Shoes', 'Men', '...</td>\n      <td>['khaki']</td>\n      <td>adidas</td>\n      <td>MYR</td>\n      <td>Buy %%%Adidas_Nizza campus couples tide shoes ...</td>\n      <td>62.0</td>\n      <td>...</td>\n      <td>['36', '37', '38', '39', '40', '41', '42', '43...</td>\n      <td>853308618_MY-2062732640</td>\n      <td>lazada</td>\n      <td>NaN</td>\n      <td>True</td>\n      <td>In Stock</td>\n      <td>%%%Adidas_Nizza campus couples tide shoes low ...</td>\n      <td>%%%Adidas_Nizza campus couples tide shoes low ...</td>\n      <td>853308618_MY-2062732640_1000384979_5020</td>\n      <td>www.lazada.com.my</td>\n    </tr>\n    <tr>\n      <th>4</th>\n      <td>4</td>\n      <td>https://www.lelong.com.my/foldable-digital-ele...</td>\n      <td>OEM</td>\n      <td>NaN</td>\n      <td>NaN</td>\n      <td>['Black', 'Blue', 'White', 'Red']</td>\n      <td>OEM</td>\n      <td>RM</td>\n      <td>Product ID : 205174022 Brand : OEM Model / SKU...</td>\n      <td>25.0</td>\n      <td>...</td>\n      <td>['Black', 'Blue', 'Red', 'White']</td>\n      <td>205174022</td>\n      <td>lelong</td>\n      <td>NaN</td>\n      <td>True</td>\n      <td>In Stock</td>\n      <td>Foldable Digital Electronic Barbecu (end 12/7/...</td>\n      <td>Foldable Digital Electronic Barbecu (end 12/7/...</td>\n      <td>205174022_qpet_5021</td>\n      <td>www.lelong.com.my</td>\n    </tr>\n  </tbody>\n</table>\n<p>5 rows × 44 columns</p>\n</div>"
     },
     "metadata": {},
     "execution_count": 3
    }
   ],
   "source": [
    "df.head()"
   ]
  },
  {
   "cell_type": "code",
   "execution_count": 4,
   "metadata": {},
   "outputs": [
    {
     "output_type": "execute_result",
     "data": {
      "text/plain": "0    Buy Adidas一 Clover Men'S T-Shirt Cw0709 Cw0710...\n1    Buy Original_Adidas_Yeezy Boost 350 V2 Glow in...\n2    Buy 2019 Authentic Adidas_Original NMD_ Women&...\n3    Buy %%%Adidas_Nizza campus couples tide shoes ...\n4    Product ID : 205174022 Brand : OEM Model / SKU...\nName: description, dtype: object"
     },
     "metadata": {},
     "execution_count": 4
    }
   ],
   "source": [
    "df['description'].head()"
   ]
  },
  {
   "cell_type": "code",
   "execution_count": 5,
   "metadata": {},
   "outputs": [
    {
     "output_type": "execute_result",
     "data": {
      "text/plain": "0    Adidas一 Clover Men'S T-Shirt Cw0709 Cw0710 Wit...\n1    Original_Adidas_Yeezy Boost 350 V2 Glow in the...\n2    2019 Authentic Adidas_Original NMD_ Women&Men ...\n3    %%%Adidas_Nizza campus couples tide shoes low ...\n4    Foldable Digital Electronic Barbecu (end 12/7/...\nName: title, dtype: object"
     },
     "metadata": {},
     "execution_count": 5
    }
   ],
   "source": [
    "df['title'].head()"
   ]
  },
  {
   "cell_type": "code",
   "execution_count": 6,
   "metadata": {},
   "outputs": [],
   "source": [
    "from spacy.lang.en import English"
   ]
  },
  {
   "cell_type": "code",
   "execution_count": 7,
   "metadata": {},
   "outputs": [],
   "source": [
    "nlp = English()"
   ]
  },
  {
   "cell_type": "code",
   "execution_count": 8,
   "metadata": {},
   "outputs": [],
   "source": [
    "title_array = df['title'].to_numpy()"
   ]
  },
  {
   "cell_type": "code",
   "execution_count": 9,
   "metadata": {},
   "outputs": [
    {
     "output_type": "execute_result",
     "data": {
      "text/plain": "str"
     },
     "metadata": {},
     "execution_count": 9
    }
   ],
   "source": [
    "type(title_array[0])"
   ]
  },
  {
   "cell_type": "code",
   "execution_count": 10,
   "metadata": {},
   "outputs": [],
   "source": [
    "my_doc = nlp(title_array[0])"
   ]
  },
  {
   "cell_type": "code",
   "execution_count": 11,
   "metadata": {
    "tags": []
   },
   "outputs": [
    {
     "output_type": "stream",
     "name": "stdout",
     "text": "['Adidas一', 'Clover', 'Men', \"'S\", 'T', '-', 'Shirt', 'Cw0709', 'Cw0710', 'With', 'Round', 'Neck', 'And', 'Short', 'Sleeves', '|', 'Lazada']\n"
    }
   ],
   "source": [
    "token_list = []\n",
    "for token in my_doc:\n",
    "    token_list.append(token.text)\n",
    "print(token_list)"
   ]
  },
  {
   "cell_type": "code",
   "execution_count": 12,
   "metadata": {},
   "outputs": [],
   "source": [
    "import flair"
   ]
  },
  {
   "cell_type": "code",
   "execution_count": 13,
   "metadata": {},
   "outputs": [],
   "source": [
    "from flair.data import Sentence"
   ]
  },
  {
   "cell_type": "code",
   "execution_count": 14,
   "metadata": {},
   "outputs": [],
   "source": [
    "sentence = Sentence(title_array[0])"
   ]
  },
  {
   "cell_type": "code",
   "execution_count": 15,
   "metadata": {},
   "outputs": [
    {
     "output_type": "execute_result",
     "data": {
      "text/plain": "Sentence: \"Adidas一 Clover Men'S T-Shirt Cw0709 Cw0710 With Round Neck And Short Sleeves | Lazada\"   [− Tokens: 14]"
     },
     "metadata": {},
     "execution_count": 15
    }
   ],
   "source": [
    "sentence"
   ]
  },
  {
   "cell_type": "code",
   "execution_count": 16,
   "metadata": {},
   "outputs": [],
   "source": [
    "from flair.embeddings import WordEmbeddings, DocumentPoolEmbeddings"
   ]
  },
  {
   "cell_type": "code",
   "execution_count": 17,
   "metadata": {},
   "outputs": [],
   "source": [
    "glove_embedding = WordEmbeddings('glove')"
   ]
  },
  {
   "cell_type": "code",
   "execution_count": 18,
   "metadata": {},
   "outputs": [],
   "source": [
    "document_embeddings = DocumentPoolEmbeddings([glove_embedding])"
   ]
  },
  {
   "cell_type": "code",
   "execution_count": 19,
   "metadata": {},
   "outputs": [],
   "source": [
    "document_embeddings.embed(sentence)"
   ]
  },
  {
   "cell_type": "code",
   "execution_count": 20,
   "metadata": {
    "tags": []
   },
   "outputs": [
    {
     "output_type": "stream",
     "name": "stdout",
     "text": "torch.Size([100])\n"
    }
   ],
   "source": [
    "print(sentence.embedding.shape)"
   ]
  },
  {
   "cell_type": "code",
   "execution_count": 21,
   "metadata": {},
   "outputs": [],
   "source": [
    "sentence_two = Sentence(title_array[1])"
   ]
  },
  {
   "cell_type": "code",
   "execution_count": 22,
   "metadata": {},
   "outputs": [
    {
     "output_type": "execute_result",
     "data": {
      "text/plain": "[Sentence: \"Adidas一 Clover Men'S T-Shirt Cw0709 Cw0710 With Round Neck And Short Sleeves | Lazada\"   [− Tokens: 14],\n Sentence: \"Original_Adidas_Yeezy Boost 350 V2 Glow in the Dark EG5293 Men/Wowen Fashion Sports Running Shoes | Lazada\"   [− Tokens: 16]]"
     },
     "metadata": {},
     "execution_count": 22
    }
   ],
   "source": [
    "[sentence, sentence_two]"
   ]
  },
  {
   "cell_type": "code",
   "execution_count": 23,
   "metadata": {
    "tags": []
   },
   "outputs": [
    {
     "output_type": "stream",
     "name": "stdout",
     "text": "torch.Size([100])\n"
    }
   ],
   "source": [
    "document_embeddings.embed(sentence_two)\n",
    "print(sentence_two.embedding.shape)"
   ]
  },
  {
   "cell_type": "code",
   "execution_count": 24,
   "metadata": {
    "tags": []
   },
   "outputs": [
    {
     "output_type": "stream",
     "name": "stdout",
     "text": "Requirement already satisfied: annoy in /Users/aswamy/.local/lib/python3.7/site-packages (1.16.3)\n"
    }
   ],
   "source": [
    "!pip install --user annoy"
   ]
  },
  {
   "cell_type": "code",
   "execution_count": 26,
   "metadata": {},
   "outputs": [],
   "source": [
    "from annoy import AnnoyIndex"
   ]
  },
  {
   "cell_type": "code",
   "execution_count": 27,
   "metadata": {},
   "outputs": [],
   "source": [
    "t = AnnoyIndex(100, 'angular')"
   ]
  },
  {
   "cell_type": "code",
   "execution_count": 28,
   "metadata": {},
   "outputs": [],
   "source": [
    "t.add_item(0, sentence.embedding)"
   ]
  },
  {
   "cell_type": "code",
   "execution_count": 29,
   "metadata": {},
   "outputs": [],
   "source": [
    "t.add_item(1, sentence_two.embedding)"
   ]
  },
  {
   "cell_type": "code",
   "execution_count": 30,
   "metadata": {},
   "outputs": [
    {
     "output_type": "execute_result",
     "data": {
      "text/plain": "True"
     },
     "metadata": {},
     "execution_count": 30
    }
   ],
   "source": [
    "t.build(100)"
   ]
  },
  {
   "cell_type": "code",
   "execution_count": 33,
   "metadata": {},
   "outputs": [
    {
     "output_type": "execute_result",
     "data": {
      "text/plain": "[0, 1]"
     },
     "metadata": {},
     "execution_count": 33
    }
   ],
   "source": [
    "t.get_nns_by_vector(sentence.embedding, 2)"
   ]
  },
  {
   "cell_type": "code",
   "execution_count": null,
   "metadata": {},
   "outputs": [],
   "source": []
  }
 ],
 "metadata": {
  "kernelspec": {
   "display_name": "Python 3",
   "language": "python",
   "name": "python3"
  },
  "kubeflow_notebook": {
   "docker_image": "",
   "experiment": {
    "id": "",
    "name": ""
   },
   "experiment_name": "",
   "pipeline_description": "",
   "pipeline_name": "",
   "volumes": []
  },
  "language_info": {
   "codemirror_mode": {
    "name": "ipython",
    "version": 3
   },
   "file_extension": ".py",
   "mimetype": "text/x-python",
   "name": "python",
   "nbconvert_exporter": "python",
   "pygments_lexer": "ipython3",
   "version": "3.7.6"
  }
 },
 "nbformat": 4,
 "nbformat_minor": 4
}